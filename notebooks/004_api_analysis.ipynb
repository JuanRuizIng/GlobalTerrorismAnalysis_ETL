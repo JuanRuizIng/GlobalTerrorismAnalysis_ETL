{
 "cells": [
  {
   "cell_type": "markdown",
   "metadata": {},
   "source": [
    "# ***Global Terrosism Dataset - Analyzing the API***\n",
    "---"
   ]
  },
  {
   "cell_type": "markdown",
   "metadata": {},
   "source": [
    "## **Dependencies**\n",
    "Se importa la libreria pandas para el analisis."
   ]
  },
  {
   "cell_type": "code",
   "execution_count": 26,
   "metadata": {},
   "outputs": [],
   "source": [
    "import pandas as pd\n",
    "import matplotlib.pyplot as plt\n",
    "import seaborn as sns"
   ]
  },
  {
   "cell_type": "markdown",
   "metadata": {},
   "source": [
    "Esta celda de código carga un archivo CSV llamado globalterrorismdb_0718dist.csv desde la ruta especificada en el directorio local. Utiliza la librería pandas y asigna los datos al DataFrame df_terrorism."
   ]
  },
  {
   "cell_type": "markdown",
   "metadata": {},
   "source": [
    "## **Original Dataset Transformations**"
   ]
  },
  {
   "cell_type": "markdown",
   "metadata": {},
   "source": [
    "**NOTA:** El analisis se hará teniendo en cuenta los csvs originales, esto por el tema de que la API no consuma más de la cuenta, por lo que al ejecutar la API se crea una coia de seguridad con la que se realizará este EDA"
   ]
  },
  {
   "cell_type": "code",
   "execution_count": 2,
   "metadata": {},
   "outputs": [],
   "source": [
    "df_terrorism = pd.read_csv('C:/Users/LENOVO/Documents/GitHub/GlobalTerrorismAnalysis_ETL/data/globalterrorismdb_0718dist.csv', encoding='iso-8859-1', low_memory=False)"
   ]
  },
  {
   "cell_type": "code",
   "execution_count": 3,
   "metadata": {},
   "outputs": [],
   "source": [
    "columns_choice = [\n",
    "    \"eventid\",\n",
    "    \"iyear\",\n",
    "    \"imonth\",\n",
    "    \"iday\",\n",
    "    \"extended\",\n",
    "    \"country_txt\",\n",
    "    \"country\",\n",
    "    \"region_txt\",\n",
    "    \"region\",\n",
    "    \"city\",\n",
    "    \"latitude\",\n",
    "    \"longitude\",\n",
    "    \"vicinity\",\n",
    "    \"crit1\",\n",
    "    \"crit2\",\n",
    "    \"crit3\",\n",
    "    \"doubtterr\",\n",
    "    \"multiple\",\n",
    "    \"success\",\n",
    "    \"suicide\",\n",
    "    \"attacktype1_txt\",\n",
    "    \"attacktype1\",\n",
    "    \"targtype1_txt\",\n",
    "    \"targtype1\",\n",
    "    \"natlty1_txt\",\n",
    "    \"natlty1\",\n",
    "    \"gname\",\n",
    "    \"guncertain1\",\n",
    "    \"individual\",\n",
    "    \"nperps\",\n",
    "    \"nperpcap\",\n",
    "    \"claimed\",\n",
    "    \"weaptype1_txt\",\n",
    "    \"weaptype1\",\n",
    "    \"nkill\",\n",
    "    \"property\",\n",
    "    \"ishostkid\",\n",
    "    \"nwound\",\n",
    "    \"INT_ANY\"\n",
    "]"
   ]
  },
  {
   "cell_type": "code",
   "execution_count": 4,
   "metadata": {},
   "outputs": [],
   "source": [
    "defect_values = {\n",
    "    'nperpcap':0,\n",
    "    'claimed': 999,\n",
    "    'nkill':0\n",
    "}"
   ]
  },
  {
   "cell_type": "code",
   "execution_count": 5,
   "metadata": {},
   "outputs": [],
   "source": [
    "df_terrorism = df_terrorism.fillna(value=defect_values)"
   ]
  },
  {
   "cell_type": "code",
   "execution_count": 6,
   "metadata": {},
   "outputs": [],
   "source": [
    "df_terrorism = df_terrorism[df_terrorism['doubtterr'] != 1]\n",
    "df_terrorism = df_terrorism[df_terrorism['doubtterr'] != -9]\n",
    "df_terrorism = df_terrorism[df_terrorism['iday'] != 0]"
   ]
  },
  {
   "cell_type": "code",
   "execution_count": 7,
   "metadata": {},
   "outputs": [],
   "source": [
    "df_terrorism = df_terrorism[columns_choice]\n",
    "df_terrorism = df_terrorism.dropna()"
   ]
  },
  {
   "cell_type": "code",
   "execution_count": 8,
   "metadata": {},
   "outputs": [
    {
     "name": "stdout",
     "output_type": "stream",
     "text": [
      "         eventid  iyear  imonth  iday  extended    country_txt  country  \\\n",
      "5   197001010002   1970       1     1         0  United States      217   \n",
      "6   197001020001   1970       1     2         0        Uruguay      218   \n",
      "8   197001020003   1970       1     2         0  United States      217   \n",
      "9   197001030001   1970       1     3         0  United States      217   \n",
      "13  197001090001   1970       1     9         0  United States      217   \n",
      "\n",
      "       region_txt  region        city  ...  claimed  weaptype1_txt  weaptype1  \\\n",
      "5   North America       1       Cairo  ...      0.0       Firearms          5   \n",
      "6   South America       3  Montevideo  ...    999.0       Firearms          5   \n",
      "8   North America       1     Madison  ...      1.0     Incendiary          8   \n",
      "9   North America       1     Madison  ...      0.0     Incendiary          8   \n",
      "13  North America       1     Detroit  ...      0.0     Incendiary          8   \n",
      "\n",
      "    nkill  property  ishostkid  nwound  INT_ANY       date  \\\n",
      "5     0.0         1        0.0     0.0       -9 1970-01-01   \n",
      "6     0.0         0        0.0     0.0        0 1970-01-02   \n",
      "8     0.0         1        0.0     0.0        0 1970-01-02   \n",
      "9     0.0         1        0.0     0.0        0 1970-01-03   \n",
      "13    0.0         1        0.0     0.0       -9 1970-01-09   \n",
      "\n",
      "                            date_country_actor  \n",
      "5    1970-01-01United StatesBlack Nationalists  \n",
      "6         1970-01-02UruguayTupamaros (Uruguay)  \n",
      "8       1970-01-02United StatesNew Year's Gang  \n",
      "9       1970-01-03United StatesNew Year's Gang  \n",
      "13  1970-01-09United StatesLeft-Wing Militants  \n",
      "\n",
      "[5 rows x 41 columns]\n"
     ]
    }
   ],
   "source": [
    "# Asegurarse de que las columnas 'iyear', 'imonth' y 'iday' no tengan valores nulos\n",
    "df_terrorism = df_terrorism.dropna(subset=['iyear', 'imonth', 'iday'])\n",
    "\n",
    "df_terrorism['date'] = pd.to_datetime(df_terrorism[['iyear', 'imonth', 'iday']].rename(columns={'iyear': 'year', 'imonth': 'month', 'iday': 'day'}))\n",
    "\n",
    "# Crear la columna 'date_country'\n",
    "df_terrorism['date_country_actor'] = df_terrorism['date'].astype(str) + df_terrorism['country_txt'] + df_terrorism['gname']\n",
    "\n",
    "print(df_terrorism.head())"
   ]
  },
  {
   "cell_type": "markdown",
   "metadata": {},
   "source": [
    "Lo anterior podría realizarse como una solución al merge, a través de la creación de una llave compuesta en el que incluimos fecha, país y grupo terrorista."
   ]
  },
  {
   "cell_type": "code",
   "execution_count": 9,
   "metadata": {},
   "outputs": [
    {
     "name": "stdout",
     "output_type": "stream",
     "text": [
      "<class 'pandas.core.frame.DataFrame'>\n",
      "Index: 82969 entries, 5 to 181690\n",
      "Data columns (total 41 columns):\n",
      " #   Column              Non-Null Count  Dtype         \n",
      "---  ------              --------------  -----         \n",
      " 0   eventid             82969 non-null  int64         \n",
      " 1   iyear               82969 non-null  int64         \n",
      " 2   imonth              82969 non-null  int64         \n",
      " 3   iday                82969 non-null  int64         \n",
      " 4   extended            82969 non-null  int64         \n",
      " 5   country_txt         82969 non-null  object        \n",
      " 6   country             82969 non-null  int64         \n",
      " 7   region_txt          82969 non-null  object        \n",
      " 8   region              82969 non-null  int64         \n",
      " 9   city                82969 non-null  object        \n",
      " 10  latitude            82969 non-null  float64       \n",
      " 11  longitude           82969 non-null  float64       \n",
      " 12  vicinity            82969 non-null  int64         \n",
      " 13  crit1               82969 non-null  int64         \n",
      " 14  crit2               82969 non-null  int64         \n",
      " 15  crit3               82969 non-null  int64         \n",
      " 16  doubtterr           82969 non-null  float64       \n",
      " 17  multiple            82969 non-null  float64       \n",
      " 18  success             82969 non-null  int64         \n",
      " 19  suicide             82969 non-null  int64         \n",
      " 20  attacktype1_txt     82969 non-null  object        \n",
      " 21  attacktype1         82969 non-null  int64         \n",
      " 22  targtype1_txt       82969 non-null  object        \n",
      " 23  targtype1           82969 non-null  int64         \n",
      " 24  natlty1_txt         82969 non-null  object        \n",
      " 25  natlty1             82969 non-null  float64       \n",
      " 26  gname               82969 non-null  object        \n",
      " 27  guncertain1         82969 non-null  float64       \n",
      " 28  individual          82969 non-null  int64         \n",
      " 29  nperps              82969 non-null  float64       \n",
      " 30  nperpcap            82969 non-null  float64       \n",
      " 31  claimed             82969 non-null  float64       \n",
      " 32  weaptype1_txt       82969 non-null  object        \n",
      " 33  weaptype1           82969 non-null  int64         \n",
      " 34  nkill               82969 non-null  float64       \n",
      " 35  property            82969 non-null  int64         \n",
      " 36  ishostkid           82969 non-null  float64       \n",
      " 37  nwound              82969 non-null  float64       \n",
      " 38  INT_ANY             82969 non-null  int64         \n",
      " 39  date                82969 non-null  datetime64[ns]\n",
      " 40  date_country_actor  82969 non-null  object        \n",
      "dtypes: datetime64[ns](1), float64(12), int64(19), object(9)\n",
      "memory usage: 26.6+ MB\n"
     ]
    }
   ],
   "source": [
    "df_terrorism.info()"
   ]
  },
  {
   "cell_type": "markdown",
   "metadata": {},
   "source": [
    "## **API Analysis**"
   ]
  },
  {
   "cell_type": "markdown",
   "metadata": {},
   "source": [
    "En el caso de la API, nos interesan sus columnas event_date (para la creación de una llave compuesta), country (para la creación de una llave compuesta), disorder_type (para sumarle otra dimension a nuestra tabla de hecho que nos proporcione más contexto) y actor1 (para la creación de una llave compuesta). "
   ]
  },
  {
   "cell_type": "code",
   "execution_count": 10,
   "metadata": {},
   "outputs": [],
   "source": [
    "api_terrorism = pd.read_csv('C:/Users/LENOVO/Documents/GitHub/GlobalTerrorismAnalysis_ETL/data/combined_data.csv')"
   ]
  },
  {
   "cell_type": "code",
   "execution_count": 11,
   "metadata": {},
   "outputs": [
    {
     "name": "stdout",
     "output_type": "stream",
     "text": [
      "event_date       0\n",
      "country          0\n",
      "disorder_type    0\n",
      "actor1           0\n",
      "dtype: int64\n"
     ]
    }
   ],
   "source": [
    "print(api_terrorism.isnull().sum())\n",
    "api_terrorism = api_terrorism.dropna()"
   ]
  },
  {
   "cell_type": "markdown",
   "metadata": {},
   "source": [
    "Vemos positivo que la API este 100% completa"
   ]
  },
  {
   "cell_type": "code",
   "execution_count": 12,
   "metadata": {},
   "outputs": [],
   "source": [
    "api_terrorism['date_country_actor'] = api_terrorism['event_date'].astype(str) + api_terrorism['country'] + api_terrorism['actor1']"
   ]
  },
  {
   "cell_type": "markdown",
   "metadata": {},
   "source": [
    "Este código crea una nueva columna en el DataFrame api_terrorism llamada date_country_actor. La columna es el resultado de concatenar tres columnas existentes: event_date (convertido a cadena de texto), country y actor1. Esta nueva columna combina la fecha del evento, el país y el actor principal en un único valor. Todo esto con el objetivo de crear una llave compuesta para realizar el merge"
   ]
  },
  {
   "cell_type": "code",
   "execution_count": 13,
   "metadata": {},
   "outputs": [
    {
     "data": {
      "text/html": [
       "<div>\n",
       "<style scoped>\n",
       "    .dataframe tbody tr th:only-of-type {\n",
       "        vertical-align: middle;\n",
       "    }\n",
       "\n",
       "    .dataframe tbody tr th {\n",
       "        vertical-align: top;\n",
       "    }\n",
       "\n",
       "    .dataframe thead th {\n",
       "        text-align: right;\n",
       "    }\n",
       "</style>\n",
       "<table border=\"1\" class=\"dataframe\">\n",
       "  <thead>\n",
       "    <tr style=\"text-align: right;\">\n",
       "      <th></th>\n",
       "      <th>event_date</th>\n",
       "      <th>country</th>\n",
       "      <th>disorder_type</th>\n",
       "      <th>actor1</th>\n",
       "      <th>date_country_actor</th>\n",
       "    </tr>\n",
       "  </thead>\n",
       "  <tbody>\n",
       "    <tr>\n",
       "      <th>0</th>\n",
       "      <td>2010-12-31</td>\n",
       "      <td>Nigeria</td>\n",
       "      <td>Political violence</td>\n",
       "      <td>Unidentified Armed Group (Nigeria)</td>\n",
       "      <td>2010-12-31NigeriaUnidentified Armed Group (Nig...</td>\n",
       "    </tr>\n",
       "    <tr>\n",
       "      <th>1</th>\n",
       "      <td>2010-12-31</td>\n",
       "      <td>Pakistan</td>\n",
       "      <td>Demonstrations</td>\n",
       "      <td>Protesters (Pakistan)</td>\n",
       "      <td>2010-12-31PakistanProtesters (Pakistan)</td>\n",
       "    </tr>\n",
       "  </tbody>\n",
       "</table>\n",
       "</div>"
      ],
      "text/plain": [
       "   event_date   country       disorder_type  \\\n",
       "0  2010-12-31   Nigeria  Political violence   \n",
       "1  2010-12-31  Pakistan      Demonstrations   \n",
       "\n",
       "                               actor1  \\\n",
       "0  Unidentified Armed Group (Nigeria)   \n",
       "1               Protesters (Pakistan)   \n",
       "\n",
       "                                  date_country_actor  \n",
       "0  2010-12-31NigeriaUnidentified Armed Group (Nig...  \n",
       "1            2010-12-31PakistanProtesters (Pakistan)  "
      ]
     },
     "execution_count": 13,
     "metadata": {},
     "output_type": "execute_result"
    }
   ],
   "source": [
    "api_terrorism.head(2)"
   ]
  },
  {
   "cell_type": "code",
   "execution_count": 14,
   "metadata": {},
   "outputs": [
    {
     "name": "stdout",
     "output_type": "stream",
     "text": [
      "<class 'pandas.core.frame.DataFrame'>\n",
      "RangeIndex: 392371 entries, 0 to 392370\n",
      "Data columns (total 5 columns):\n",
      " #   Column              Non-Null Count   Dtype \n",
      "---  ------              --------------   ----- \n",
      " 0   event_date          392371 non-null  object\n",
      " 1   country             392371 non-null  object\n",
      " 2   disorder_type       392371 non-null  object\n",
      " 3   actor1              392371 non-null  object\n",
      " 4   date_country_actor  392371 non-null  object\n",
      "dtypes: object(5)\n",
      "memory usage: 15.0+ MB\n"
     ]
    }
   ],
   "source": [
    "api_terrorism.info()"
   ]
  },
  {
   "cell_type": "code",
   "execution_count": 24,
   "metadata": {},
   "outputs": [
    {
     "data": {
      "text/html": [
       "<div>\n",
       "<style scoped>\n",
       "    .dataframe tbody tr th:only-of-type {\n",
       "        vertical-align: middle;\n",
       "    }\n",
       "\n",
       "    .dataframe tbody tr th {\n",
       "        vertical-align: top;\n",
       "    }\n",
       "\n",
       "    .dataframe thead th {\n",
       "        text-align: right;\n",
       "    }\n",
       "</style>\n",
       "<table border=\"1\" class=\"dataframe\">\n",
       "  <thead>\n",
       "    <tr style=\"text-align: right;\">\n",
       "      <th></th>\n",
       "      <th>event_date</th>\n",
       "      <th>country</th>\n",
       "      <th>disorder_type</th>\n",
       "      <th>actor1</th>\n",
       "      <th>date_country_actor</th>\n",
       "    </tr>\n",
       "  </thead>\n",
       "  <tbody>\n",
       "    <tr>\n",
       "      <th>count</th>\n",
       "      <td>392371</td>\n",
       "      <td>392371</td>\n",
       "      <td>392371</td>\n",
       "      <td>392371</td>\n",
       "      <td>392371</td>\n",
       "    </tr>\n",
       "    <tr>\n",
       "      <th>unique</th>\n",
       "      <td>7659</td>\n",
       "      <td>77</td>\n",
       "      <td>4</td>\n",
       "      <td>5480</td>\n",
       "      <td>167276</td>\n",
       "    </tr>\n",
       "    <tr>\n",
       "      <th>top</th>\n",
       "      <td>2017-01-18</td>\n",
       "      <td>Pakistan</td>\n",
       "      <td>Political violence</td>\n",
       "      <td>Protesters (Pakistan)</td>\n",
       "      <td>2016-11-28IndiaProtesters (India)</td>\n",
       "    </tr>\n",
       "    <tr>\n",
       "      <th>freq</th>\n",
       "      <td>493</td>\n",
       "      <td>45997</td>\n",
       "      <td>242677</td>\n",
       "      <td>30641</td>\n",
       "      <td>138</td>\n",
       "    </tr>\n",
       "  </tbody>\n",
       "</table>\n",
       "</div>"
      ],
      "text/plain": [
       "        event_date   country       disorder_type                 actor1  \\\n",
       "count       392371    392371              392371                 392371   \n",
       "unique        7659        77                   4                   5480   \n",
       "top     2017-01-18  Pakistan  Political violence  Protesters (Pakistan)   \n",
       "freq           493     45997              242677                  30641   \n",
       "\n",
       "                       date_country_actor  \n",
       "count                              392371  \n",
       "unique                             167276  \n",
       "top     2016-11-28IndiaProtesters (India)  \n",
       "freq                                  138  "
      ]
     },
     "execution_count": 24,
     "metadata": {},
     "output_type": "execute_result"
    }
   ],
   "source": [
    "api_terrorism.describe()"
   ]
  },
  {
   "cell_type": "markdown",
   "metadata": {},
   "source": [
    "Podemos observar que, a pesar de tener apróximadamente 390 mil datos, puede ser posible que esa gran cantidad de ataques cometidos, sean cometidos por pocos grupos terroristas, y en fechas frecuentes (teniendo en cuenta el unique de la columna event_date y actor1)"
   ]
  },
  {
   "cell_type": "code",
   "execution_count": 23,
   "metadata": {},
   "outputs": [
    {
     "data": {
      "image/png": "[encoded data removed]",
      "text/plain": [
       "<Figure size 1000x700 with 1 Axes>"
      ]
     },
     "metadata": {},
     "output_type": "display_data"
    }
   ],
   "source": [
    "disorder_counts = api_terrorism['disorder_type'].value_counts()\n",
    "\n",
    "plt.figure(figsize=(10, 7))\n",
    "plt.pie(disorder_counts, labels=disorder_counts.index, autopct='%1.1f%%', startangle=140)\n",
    "plt.title('Distribución de tipos de desorden en api_terrorism')\n",
    "plt.axis('equal')  \n",
    "plt.show()"
   ]
  },
  {
   "cell_type": "markdown",
   "metadata": {},
   "source": [
    "Vemos que, en su gran mayoría, el tipo de desorder suele ser por violencia política, lo que nos puede dar un indicio de que la mayoría de los posibles atentados resultantes en el merge se puedan analizar de forma más profunda, encontrando motivos con mucho más contexto y analizar sus variables"
   ]
  },
  {
   "cell_type": "code",
   "execution_count": 27,
   "metadata": {},
   "outputs": [
    {
     "data": {
      "image/png": "[encoded data removed]",
      "text/plain": [
       "<Figure size 1200x800 with 1 Axes>"
      ]
     },
     "metadata": {},
     "output_type": "display_data"
    }
   ],
   "source": [
    "pastel_colors = sns.color_palette(\"pastel\")\n",
    "\n",
    "plt.figure(figsize=(12, 8))\n",
    "actor_counts.plot(kind='bar', color=pastel_colors[:len(actor_counts)])\n",
    "plt.title('Top 10 Actores en api_terrorism')\n",
    "plt.xlabel('Actor')\n",
    "plt.ylabel('Frecuencia')\n",
    "plt.xticks(rotation=45)\n",
    "plt.show()"
   ]
  },
  {
   "cell_type": "markdown",
   "metadata": {},
   "source": [
    "Para sorpresa nuestra, la API toma como eventos violentos protestas ocurridos sobre todo ocurridas en Asia del Sur, y teniendo en cuenta que la gran mayoría de eventos violentos son por violencia politica, pueden darnos un indicio de que, posiblemente, hayan violaciones en Asia del Sur al derecho de protesta. O al contrario, puede que utilicen los grupos politicos provoquen esas protestas para generar violencia por algún motivo, y resultar en esos eventos violentos."
   ]
  },
  {
   "cell_type": "markdown",
   "metadata": {},
   "source": [
    "## **Merge transformations**"
   ]
  },
  {
   "cell_type": "markdown",
   "metadata": {},
   "source": [
    "\n",
    "Este código realiza una operación de fusión (merge) entre los DataFrames df_terrorism y api_terrorism, utilizando la columna date_country_actor como clave común para combinar los datos. La fusión se realiza con la opción how='left', lo que significa que se mantendrán todas las filas del DataFrame df_terrorism, y se agregarán las columnas correspondientes de api_terrorism cuando coincidan los valores en la columna date_country_actor. Si no hay coincidencia, se insertarán valores nulos (NaN) en las columnas del DataFrame derecho (api_terrorism). La columna objetivo después del merge será disorder_type"
   ]
  },
  {
   "cell_type": "code",
   "execution_count": 15,
   "metadata": {},
   "outputs": [],
   "source": [
    "data = pd.merge(df_terrorism, api_terrorism, how='left', on='date_country_actor')"
   ]
  },
  {
   "cell_type": "code",
   "execution_count": 16,
   "metadata": {},
   "outputs": [
    {
     "name": "stdout",
     "output_type": "stream",
     "text": [
      "<class 'pandas.core.frame.DataFrame'>\n",
      "RangeIndex: 96271 entries, 0 to 96270\n",
      "Data columns (total 45 columns):\n",
      " #   Column              Non-Null Count  Dtype         \n",
      "---  ------              --------------  -----         \n",
      " 0   eventid             96271 non-null  int64         \n",
      " 1   iyear               96271 non-null  int64         \n",
      " 2   imonth              96271 non-null  int64         \n",
      " 3   iday                96271 non-null  int64         \n",
      " 4   extended            96271 non-null  int64         \n",
      " 5   country_txt         96271 non-null  object        \n",
      " 6   country_x           96271 non-null  int64         \n",
      " 7   region_txt          96271 non-null  object        \n",
      " 8   region              96271 non-null  int64         \n",
      " 9   city                96271 non-null  object        \n",
      " 10  latitude            96271 non-null  float64       \n",
      " 11  longitude           96271 non-null  float64       \n",
      " 12  vicinity            96271 non-null  int64         \n",
      " 13  crit1               96271 non-null  int64         \n",
      " 14  crit2               96271 non-null  int64         \n",
      " 15  crit3               96271 non-null  int64         \n",
      " 16  doubtterr           96271 non-null  float64       \n",
      " 17  multiple            96271 non-null  float64       \n",
      " 18  success             96271 non-null  int64         \n",
      " 19  suicide             96271 non-null  int64         \n",
      " 20  attacktype1_txt     96271 non-null  object        \n",
      " 21  attacktype1         96271 non-null  int64         \n",
      " 22  targtype1_txt       96271 non-null  object        \n",
      " 23  targtype1           96271 non-null  int64         \n",
      " 24  natlty1_txt         96271 non-null  object        \n",
      " 25  natlty1             96271 non-null  float64       \n",
      " 26  gname               96271 non-null  object        \n",
      " 27  guncertain1         96271 non-null  float64       \n",
      " 28  individual          96271 non-null  int64         \n",
      " 29  nperps              96271 non-null  float64       \n",
      " 30  nperpcap            96271 non-null  float64       \n",
      " 31  claimed             96271 non-null  float64       \n",
      " 32  weaptype1_txt       96271 non-null  object        \n",
      " 33  weaptype1           96271 non-null  int64         \n",
      " 34  nkill               96271 non-null  float64       \n",
      " 35  property            96271 non-null  int64         \n",
      " 36  ishostkid           96271 non-null  float64       \n",
      " 37  nwound              96271 non-null  float64       \n",
      " 38  INT_ANY             96271 non-null  int64         \n",
      " 39  date                96271 non-null  datetime64[ns]\n",
      " 40  date_country_actor  96271 non-null  object        \n",
      " 41  event_date          13969 non-null  object        \n",
      " 42  country_y           13969 non-null  object        \n",
      " 43  disorder_type       13969 non-null  object        \n",
      " 44  actor1              13969 non-null  object        \n",
      "dtypes: datetime64[ns](1), float64(12), int64(19), object(13)\n",
      "memory usage: 33.1+ MB\n"
     ]
    }
   ],
   "source": [
    "data.info()"
   ]
  },
  {
   "cell_type": "code",
   "execution_count": 17,
   "metadata": {},
   "outputs": [
    {
     "data": {
      "text/html": [
       "<div>\n",
       "<style scoped>\n",
       "    .dataframe tbody tr th:only-of-type {\n",
       "        vertical-align: middle;\n",
       "    }\n",
       "\n",
       "    .dataframe tbody tr th {\n",
       "        vertical-align: top;\n",
       "    }\n",
       "\n",
       "    .dataframe thead th {\n",
       "        text-align: right;\n",
       "    }\n",
       "</style>\n",
       "<table border=\"1\" class=\"dataframe\">\n",
       "  <thead>\n",
       "    <tr style=\"text-align: right;\">\n",
       "      <th></th>\n",
       "      <th>eventid</th>\n",
       "      <th>iyear</th>\n",
       "      <th>imonth</th>\n",
       "      <th>iday</th>\n",
       "      <th>extended</th>\n",
       "      <th>country_txt</th>\n",
       "      <th>country_x</th>\n",
       "      <th>region_txt</th>\n",
       "      <th>region</th>\n",
       "      <th>city</th>\n",
       "      <th>...</th>\n",
       "      <th>property</th>\n",
       "      <th>ishostkid</th>\n",
       "      <th>nwound</th>\n",
       "      <th>INT_ANY</th>\n",
       "      <th>date</th>\n",
       "      <th>date_country_actor</th>\n",
       "      <th>event_date</th>\n",
       "      <th>country_y</th>\n",
       "      <th>disorder_type</th>\n",
       "      <th>actor1</th>\n",
       "    </tr>\n",
       "  </thead>\n",
       "  <tbody>\n",
       "    <tr>\n",
       "      <th>0</th>\n",
       "      <td>197001010002</td>\n",
       "      <td>1970</td>\n",
       "      <td>1</td>\n",
       "      <td>1</td>\n",
       "      <td>0</td>\n",
       "      <td>United States</td>\n",
       "      <td>217</td>\n",
       "      <td>North America</td>\n",
       "      <td>1</td>\n",
       "      <td>Cairo</td>\n",
       "      <td>...</td>\n",
       "      <td>1</td>\n",
       "      <td>0.0</td>\n",
       "      <td>0.0</td>\n",
       "      <td>-9</td>\n",
       "      <td>1970-01-01</td>\n",
       "      <td>1970-01-01United StatesBlack Nationalists</td>\n",
       "      <td>NaN</td>\n",
       "      <td>NaN</td>\n",
       "      <td>NaN</td>\n",
       "      <td>NaN</td>\n",
       "    </tr>\n",
       "    <tr>\n",
       "      <th>1</th>\n",
       "      <td>197001020001</td>\n",
       "      <td>1970</td>\n",
       "      <td>1</td>\n",
       "      <td>2</td>\n",
       "      <td>0</td>\n",
       "      <td>Uruguay</td>\n",
       "      <td>218</td>\n",
       "      <td>South America</td>\n",
       "      <td>3</td>\n",
       "      <td>Montevideo</td>\n",
       "      <td>...</td>\n",
       "      <td>0</td>\n",
       "      <td>0.0</td>\n",
       "      <td>0.0</td>\n",
       "      <td>0</td>\n",
       "      <td>1970-01-02</td>\n",
       "      <td>1970-01-02UruguayTupamaros (Uruguay)</td>\n",
       "      <td>NaN</td>\n",
       "      <td>NaN</td>\n",
       "      <td>NaN</td>\n",
       "      <td>NaN</td>\n",
       "    </tr>\n",
       "    <tr>\n",
       "      <th>2</th>\n",
       "      <td>197001020003</td>\n",
       "      <td>1970</td>\n",
       "      <td>1</td>\n",
       "      <td>2</td>\n",
       "      <td>0</td>\n",
       "      <td>United States</td>\n",
       "      <td>217</td>\n",
       "      <td>North America</td>\n",
       "      <td>1</td>\n",
       "      <td>Madison</td>\n",
       "      <td>...</td>\n",
       "      <td>1</td>\n",
       "      <td>0.0</td>\n",
       "      <td>0.0</td>\n",
       "      <td>0</td>\n",
       "      <td>1970-01-02</td>\n",
       "      <td>1970-01-02United StatesNew Year's Gang</td>\n",
       "      <td>NaN</td>\n",
       "      <td>NaN</td>\n",
       "      <td>NaN</td>\n",
       "      <td>NaN</td>\n",
       "    </tr>\n",
       "    <tr>\n",
       "      <th>3</th>\n",
       "      <td>197001030001</td>\n",
       "      <td>1970</td>\n",
       "      <td>1</td>\n",
       "      <td>3</td>\n",
       "      <td>0</td>\n",
       "      <td>United States</td>\n",
       "      <td>217</td>\n",
       "      <td>North America</td>\n",
       "      <td>1</td>\n",
       "      <td>Madison</td>\n",
       "      <td>...</td>\n",
       "      <td>1</td>\n",
       "      <td>0.0</td>\n",
       "      <td>0.0</td>\n",
       "      <td>0</td>\n",
       "      <td>1970-01-03</td>\n",
       "      <td>1970-01-03United StatesNew Year's Gang</td>\n",
       "      <td>NaN</td>\n",
       "      <td>NaN</td>\n",
       "      <td>NaN</td>\n",
       "      <td>NaN</td>\n",
       "    </tr>\n",
       "    <tr>\n",
       "      <th>4</th>\n",
       "      <td>197001090001</td>\n",
       "      <td>1970</td>\n",
       "      <td>1</td>\n",
       "      <td>9</td>\n",
       "      <td>0</td>\n",
       "      <td>United States</td>\n",
       "      <td>217</td>\n",
       "      <td>North America</td>\n",
       "      <td>1</td>\n",
       "      <td>Detroit</td>\n",
       "      <td>...</td>\n",
       "      <td>1</td>\n",
       "      <td>0.0</td>\n",
       "      <td>0.0</td>\n",
       "      <td>-9</td>\n",
       "      <td>1970-01-09</td>\n",
       "      <td>1970-01-09United StatesLeft-Wing Militants</td>\n",
       "      <td>NaN</td>\n",
       "      <td>NaN</td>\n",
       "      <td>NaN</td>\n",
       "      <td>NaN</td>\n",
       "    </tr>\n",
       "  </tbody>\n",
       "</table>\n",
       "<p>5 rows × 45 columns</p>\n",
       "</div>"
      ],
      "text/plain": [
       "        eventid  iyear  imonth  iday  extended    country_txt  country_x  \\\n",
       "0  197001010002   1970       1     1         0  United States        217   \n",
       "1  197001020001   1970       1     2         0        Uruguay        218   \n",
       "2  197001020003   1970       1     2         0  United States        217   \n",
       "3  197001030001   1970       1     3         0  United States        217   \n",
       "4  197001090001   1970       1     9         0  United States        217   \n",
       "\n",
       "      region_txt  region        city  ...  property  ishostkid  nwound  \\\n",
       "0  North America       1       Cairo  ...         1        0.0     0.0   \n",
       "1  South America       3  Montevideo  ...         0        0.0     0.0   \n",
       "2  North America       1     Madison  ...         1        0.0     0.0   \n",
       "3  North America       1     Madison  ...         1        0.0     0.0   \n",
       "4  North America       1     Detroit  ...         1        0.0     0.0   \n",
       "\n",
       "   INT_ANY       date                          date_country_actor  event_date  \\\n",
       "0       -9 1970-01-01   1970-01-01United StatesBlack Nationalists         NaN   \n",
       "1        0 1970-01-02        1970-01-02UruguayTupamaros (Uruguay)         NaN   \n",
       "2        0 1970-01-02      1970-01-02United StatesNew Year's Gang         NaN   \n",
       "3        0 1970-01-03      1970-01-03United StatesNew Year's Gang         NaN   \n",
       "4       -9 1970-01-09  1970-01-09United StatesLeft-Wing Militants         NaN   \n",
       "\n",
       "   country_y  disorder_type  actor1  \n",
       "0        NaN            NaN     NaN  \n",
       "1        NaN            NaN     NaN  \n",
       "2        NaN            NaN     NaN  \n",
       "3        NaN            NaN     NaN  \n",
       "4        NaN            NaN     NaN  \n",
       "\n",
       "[5 rows x 45 columns]"
      ]
     },
     "execution_count": 17,
     "metadata": {},
     "output_type": "execute_result"
    }
   ],
   "source": [
    "data.head(5)"
   ]
  },
  {
   "cell_type": "code",
   "execution_count": 18,
   "metadata": {},
   "outputs": [],
   "source": [
    "data = data.dropna()"
   ]
  },
  {
   "cell_type": "code",
   "execution_count": 19,
   "metadata": {},
   "outputs": [
    {
     "name": "stdout",
     "output_type": "stream",
     "text": [
      "<class 'pandas.core.frame.DataFrame'>\n",
      "Index: 13969 entries, 18097 to 96265\n",
      "Data columns (total 45 columns):\n",
      " #   Column              Non-Null Count  Dtype         \n",
      "---  ------              --------------  -----         \n",
      " 0   eventid             13969 non-null  int64         \n",
      " 1   iyear               13969 non-null  int64         \n",
      " 2   imonth              13969 non-null  int64         \n",
      " 3   iday                13969 non-null  int64         \n",
      " 4   extended            13969 non-null  int64         \n",
      " 5   country_txt         13969 non-null  object        \n",
      " 6   country_x           13969 non-null  int64         \n",
      " 7   region_txt          13969 non-null  object        \n",
      " 8   region              13969 non-null  int64         \n",
      " 9   city                13969 non-null  object        \n",
      " 10  latitude            13969 non-null  float64       \n",
      " 11  longitude           13969 non-null  float64       \n",
      " 12  vicinity            13969 non-null  int64         \n",
      " 13  crit1               13969 non-null  int64         \n",
      " 14  crit2               13969 non-null  int64         \n",
      " 15  crit3               13969 non-null  int64         \n",
      " 16  doubtterr           13969 non-null  float64       \n",
      " 17  multiple            13969 non-null  float64       \n",
      " 18  success             13969 non-null  int64         \n",
      " 19  suicide             13969 non-null  int64         \n",
      " 20  attacktype1_txt     13969 non-null  object        \n",
      " 21  attacktype1         13969 non-null  int64         \n",
      " 22  targtype1_txt       13969 non-null  object        \n",
      " 23  targtype1           13969 non-null  int64         \n",
      " 24  natlty1_txt         13969 non-null  object        \n",
      " 25  natlty1             13969 non-null  float64       \n",
      " 26  gname               13969 non-null  object        \n",
      " 27  guncertain1         13969 non-null  float64       \n",
      " 28  individual          13969 non-null  int64         \n",
      " 29  nperps              13969 non-null  float64       \n",
      " 30  nperpcap            13969 non-null  float64       \n",
      " 31  claimed             13969 non-null  float64       \n",
      " 32  weaptype1_txt       13969 non-null  object        \n",
      " 33  weaptype1           13969 non-null  int64         \n",
      " 34  nkill               13969 non-null  float64       \n",
      " 35  property            13969 non-null  int64         \n",
      " 36  ishostkid           13969 non-null  float64       \n",
      " 37  nwound              13969 non-null  float64       \n",
      " 38  INT_ANY             13969 non-null  int64         \n",
      " 39  date                13969 non-null  datetime64[ns]\n",
      " 40  date_country_actor  13969 non-null  object        \n",
      " 41  event_date          13969 non-null  object        \n",
      " 42  country_y           13969 non-null  object        \n",
      " 43  disorder_type       13969 non-null  object        \n",
      " 44  actor1              13969 non-null  object        \n",
      "dtypes: datetime64[ns](1), float64(12), int64(19), object(13)\n",
      "memory usage: 4.9+ MB\n"
     ]
    }
   ],
   "source": [
    "data.info()"
   ]
  },
  {
   "cell_type": "code",
   "execution_count": 21,
   "metadata": {},
   "outputs": [
    {
     "data": {
      "text/html": [
       "<div>\n",
       "<style scoped>\n",
       "    .dataframe tbody tr th:only-of-type {\n",
       "        vertical-align: middle;\n",
       "    }\n",
       "\n",
       "    .dataframe tbody tr th {\n",
       "        vertical-align: top;\n",
       "    }\n",
       "\n",
       "    .dataframe thead th {\n",
       "        text-align: right;\n",
       "    }\n",
       "</style>\n",
       "<table border=\"1\" class=\"dataframe\">\n",
       "  <thead>\n",
       "    <tr style=\"text-align: right;\">\n",
       "      <th></th>\n",
       "      <th>eventid</th>\n",
       "      <th>iyear</th>\n",
       "      <th>imonth</th>\n",
       "      <th>iday</th>\n",
       "      <th>extended</th>\n",
       "      <th>country_txt</th>\n",
       "      <th>country_x</th>\n",
       "      <th>region_txt</th>\n",
       "      <th>region</th>\n",
       "      <th>city</th>\n",
       "      <th>...</th>\n",
       "      <th>property</th>\n",
       "      <th>ishostkid</th>\n",
       "      <th>nwound</th>\n",
       "      <th>INT_ANY</th>\n",
       "      <th>date</th>\n",
       "      <th>date_country_actor</th>\n",
       "      <th>event_date</th>\n",
       "      <th>country_y</th>\n",
       "      <th>disorder_type</th>\n",
       "      <th>actor1</th>\n",
       "    </tr>\n",
       "  </thead>\n",
       "  <tbody>\n",
       "    <tr>\n",
       "      <th>18097</th>\n",
       "      <td>201003120016</td>\n",
       "      <td>2010</td>\n",
       "      <td>3</td>\n",
       "      <td>12</td>\n",
       "      <td>1</td>\n",
       "      <td>Cameroon</td>\n",
       "      <td>37</td>\n",
       "      <td>Sub-Saharan Africa</td>\n",
       "      <td>11</td>\n",
       "      <td>Bakassi district</td>\n",
       "      <td>...</td>\n",
       "      <td>-9</td>\n",
       "      <td>1.0</td>\n",
       "      <td>2.0</td>\n",
       "      <td>1</td>\n",
       "      <td>2010-03-12</td>\n",
       "      <td>2010-03-12CameroonAfrica Marine Commando</td>\n",
       "      <td>2010-03-12</td>\n",
       "      <td>Cameroon</td>\n",
       "      <td>Political violence</td>\n",
       "      <td>Africa Marine Commando</td>\n",
       "    </tr>\n",
       "    <tr>\n",
       "      <th>18098</th>\n",
       "      <td>201003120016</td>\n",
       "      <td>2010</td>\n",
       "      <td>3</td>\n",
       "      <td>12</td>\n",
       "      <td>1</td>\n",
       "      <td>Cameroon</td>\n",
       "      <td>37</td>\n",
       "      <td>Sub-Saharan Africa</td>\n",
       "      <td>11</td>\n",
       "      <td>Bakassi district</td>\n",
       "      <td>...</td>\n",
       "      <td>-9</td>\n",
       "      <td>1.0</td>\n",
       "      <td>2.0</td>\n",
       "      <td>1</td>\n",
       "      <td>2010-03-12</td>\n",
       "      <td>2010-03-12CameroonAfrica Marine Commando</td>\n",
       "      <td>2010-03-12</td>\n",
       "      <td>Cameroon</td>\n",
       "      <td>Political violence</td>\n",
       "      <td>Africa Marine Commando</td>\n",
       "    </tr>\n",
       "    <tr>\n",
       "      <th>21311</th>\n",
       "      <td>201011160013</td>\n",
       "      <td>2010</td>\n",
       "      <td>11</td>\n",
       "      <td>16</td>\n",
       "      <td>1</td>\n",
       "      <td>Cameroon</td>\n",
       "      <td>37</td>\n",
       "      <td>Sub-Saharan Africa</td>\n",
       "      <td>11</td>\n",
       "      <td>Bakassi district</td>\n",
       "      <td>...</td>\n",
       "      <td>0</td>\n",
       "      <td>0.0</td>\n",
       "      <td>0.0</td>\n",
       "      <td>-9</td>\n",
       "      <td>2010-11-16</td>\n",
       "      <td>2010-11-16CameroonAfrica Marine Commando</td>\n",
       "      <td>2010-11-16</td>\n",
       "      <td>Cameroon</td>\n",
       "      <td>Political violence</td>\n",
       "      <td>Africa Marine Commando</td>\n",
       "    </tr>\n",
       "    <tr>\n",
       "      <th>21312</th>\n",
       "      <td>201011160013</td>\n",
       "      <td>2010</td>\n",
       "      <td>11</td>\n",
       "      <td>16</td>\n",
       "      <td>1</td>\n",
       "      <td>Cameroon</td>\n",
       "      <td>37</td>\n",
       "      <td>Sub-Saharan Africa</td>\n",
       "      <td>11</td>\n",
       "      <td>Bakassi district</td>\n",
       "      <td>...</td>\n",
       "      <td>0</td>\n",
       "      <td>0.0</td>\n",
       "      <td>0.0</td>\n",
       "      <td>-9</td>\n",
       "      <td>2010-11-16</td>\n",
       "      <td>2010-11-16CameroonAfrica Marine Commando</td>\n",
       "      <td>2010-11-16</td>\n",
       "      <td>Cameroon</td>\n",
       "      <td>Political violence</td>\n",
       "      <td>Africa Marine Commando</td>\n",
       "    </tr>\n",
       "    <tr>\n",
       "      <th>21313</th>\n",
       "      <td>201011160013</td>\n",
       "      <td>2010</td>\n",
       "      <td>11</td>\n",
       "      <td>16</td>\n",
       "      <td>1</td>\n",
       "      <td>Cameroon</td>\n",
       "      <td>37</td>\n",
       "      <td>Sub-Saharan Africa</td>\n",
       "      <td>11</td>\n",
       "      <td>Bakassi district</td>\n",
       "      <td>...</td>\n",
       "      <td>0</td>\n",
       "      <td>0.0</td>\n",
       "      <td>0.0</td>\n",
       "      <td>-9</td>\n",
       "      <td>2010-11-16</td>\n",
       "      <td>2010-11-16CameroonAfrica Marine Commando</td>\n",
       "      <td>2010-11-16</td>\n",
       "      <td>Cameroon</td>\n",
       "      <td>Political violence</td>\n",
       "      <td>Africa Marine Commando</td>\n",
       "    </tr>\n",
       "  </tbody>\n",
       "</table>\n",
       "<p>5 rows × 45 columns</p>\n",
       "</div>"
      ],
      "text/plain": [
       "            eventid  iyear  imonth  iday  extended country_txt  country_x  \\\n",
       "18097  201003120016   2010       3    12         1    Cameroon         37   \n",
       "18098  201003120016   2010       3    12         1    Cameroon         37   \n",
       "21311  201011160013   2010      11    16         1    Cameroon         37   \n",
       "21312  201011160013   2010      11    16         1    Cameroon         37   \n",
       "21313  201011160013   2010      11    16         1    Cameroon         37   \n",
       "\n",
       "               region_txt  region              city  ...  property  ishostkid  \\\n",
       "18097  Sub-Saharan Africa      11  Bakassi district  ...        -9        1.0   \n",
       "18098  Sub-Saharan Africa      11  Bakassi district  ...        -9        1.0   \n",
       "21311  Sub-Saharan Africa      11  Bakassi district  ...         0        0.0   \n",
       "21312  Sub-Saharan Africa      11  Bakassi district  ...         0        0.0   \n",
       "21313  Sub-Saharan Africa      11  Bakassi district  ...         0        0.0   \n",
       "\n",
       "       nwound  INT_ANY       date                        date_country_actor  \\\n",
       "18097     2.0        1 2010-03-12  2010-03-12CameroonAfrica Marine Commando   \n",
       "18098     2.0        1 2010-03-12  2010-03-12CameroonAfrica Marine Commando   \n",
       "21311     0.0       -9 2010-11-16  2010-11-16CameroonAfrica Marine Commando   \n",
       "21312     0.0       -9 2010-11-16  2010-11-16CameroonAfrica Marine Commando   \n",
       "21313     0.0       -9 2010-11-16  2010-11-16CameroonAfrica Marine Commando   \n",
       "\n",
       "       event_date  country_y       disorder_type                  actor1  \n",
       "18097  2010-03-12   Cameroon  Political violence  Africa Marine Commando  \n",
       "18098  2010-03-12   Cameroon  Political violence  Africa Marine Commando  \n",
       "21311  2010-11-16   Cameroon  Political violence  Africa Marine Commando  \n",
       "21312  2010-11-16   Cameroon  Political violence  Africa Marine Commando  \n",
       "21313  2010-11-16   Cameroon  Political violence  Africa Marine Commando  \n",
       "\n",
       "[5 rows x 45 columns]"
      ]
     },
     "execution_count": 21,
     "metadata": {},
     "output_type": "execute_result"
    }
   ],
   "source": [
    "data.head(5)"
   ]
  },
  {
   "cell_type": "markdown",
   "metadata": {},
   "source": [
    "Podemos observar que el resultado del merge son 13 mil datos. Se puede definir un manejo de datos nulos, tomando en cuenta de los otros 70 mil datos pueden ser reemplazados por 'Desconocido' para persistir la data original. Sin embargo, para objetivos del EDA de la API, perservaremos solo los datos del merge, esto tomando en cuenta el ver como cambió el gráfico de disorder_type del merge con respecto al original de la API."
   ]
  },
  {
   "cell_type": "code",
   "execution_count": 28,
   "metadata": {},
   "outputs": [
    {
     "data": {
      "image/png": "[encoded data removed]",
      "text/plain": [
       "<Figure size 1000x700 with 1 Axes>"
      ]
     },
     "metadata": {},
     "output_type": "display_data"
    }
   ],
   "source": [
    "disorder_counts_merge = data['disorder_type'].value_counts()\n",
    "\n",
    "plt.figure(figsize=(10, 7))\n",
    "plt.pie(disorder_counts_merge, labels=disorder_counts_merge.index, autopct='%1.1f%%', startangle=140)\n",
    "plt.title('Distribución de tipos de desorden en api_terrorism')\n",
    "plt.axis('equal')  \n",
    "plt.show()"
   ]
  },
  {
   "cell_type": "code",
   "execution_count": 29,
   "metadata": {},
   "outputs": [
    {
     "data": {
      "text/plain": [
       "array(['Political violence', 'Strategic developments'], dtype=object)"
      ]
     },
     "execution_count": 29,
     "metadata": {},
     "output_type": "execute_result"
    }
   ],
   "source": [
    "data['disorder_type'].unique()"
   ]
  },
  {
   "cell_type": "markdown",
   "metadata": {},
   "source": [
    "Podemos observar que, en su gran mayoría, después de la complementación del merge, sin tener en cuenta el número de 'Desconocidos' (notese que desconocidos será el resultado más alto debido a la gran cantidad de datos nulos que hay después del merge), el tipo de desorden será violencia politica con un absoluto porcentaje alto, y Strategic developments con un porcentaje extremadamente bajo. Lo que quiere decir que en nuestra complementación, se analizarán algunos casos sobre violencia politica en su inmensa mayoría. Esto puede servir para reconocer las variables que pueden ser incidentes para clasificar este tipo de violencia."
   ]
  }
 ],
 "metadata": {
  "kernelspec": {
   "display_name": "globalterrorismanalysis-etl-ylfzfQd_-py3.12",
   "language": "python",
   "name": "python3"
  },
  "language_info": {
   "codemirror_mode": {
    "name": "ipython",
    "version": 3
   },
   "file_extension": ".py",
   "mimetype": "text/x-python",
   "name": "python",
   "nbconvert_exporter": "python",
   "pygments_lexer": "ipython3",
   "version": "3.12.5"
  }
 },
 "nbformat": 4,
 "nbformat_minor": 2
}
