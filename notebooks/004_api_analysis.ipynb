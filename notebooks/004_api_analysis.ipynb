{
 "cells": [
  {
   "cell_type": "markdown",
   "metadata": {},
   "source": [
    "# ***Global Terrosism Dataset - Analyzing the API***\n",
    "---"
   ]
  },
  {
   "cell_type": "markdown",
   "metadata": {},
   "source": [
    "## **Dependencies**\n",
    "Se importa la libreria pandas para el analisis."
   ]
  },
  {
   "cell_type": "code",
   "execution_count": 1,
   "metadata": {},
   "outputs": [],
   "source": [
    "import pandas as pd"
   ]
  },
  {
   "cell_type": "markdown",
   "metadata": {},
   "source": [
    "Esta celda de código carga un archivo CSV llamado globalterrorismdb_0718dist.csv desde la ruta especificada en el directorio local. Utiliza la librería pandas y asigna los datos al DataFrame df_terrorism."
   ]
  },
  {
   "cell_type": "markdown",
   "metadata": {},
   "source": [
    "## **Dataset Transformations**"
   ]
  },
  {
   "cell_type": "code",
   "execution_count": 2,
   "metadata": {},
   "outputs": [],
   "source": [
    "df_terrorism = pd.read_csv('/Users/LENOVO/OneDrive/Escritorio/UNIVERSIDAD/ETL/pruebaAPI/globalterrorismdb_0718dist.csv', encoding='iso-8859-1', low_memory=False)"
   ]
  },
  {
   "cell_type": "markdown",
   "metadata": {},
   "source": [
    "Esta celda define una lista llamada columns_choice que contiene los nombres de las columnas seleccionadas del DataFrame. Estas columnas estan relacionadas con datos sobre ataques terroristas."
   ]
  },
  {
   "cell_type": "code",
   "execution_count": 3,
   "metadata": {},
   "outputs": [],
   "source": [
    "columns_choice = [\n",
    "    \"eventid\",\n",
    "    \"iyear\",\n",
    "    \"imonth\",\n",
    "    \"iday\",\n",
    "    \"extended\",\n",
    "    \"country_txt\",\n",
    "    \"country\",\n",
    "    \"region_txt\",\n",
    "    \"region\",\n",
    "    \"city\",\n",
    "    \"latitude\",\n",
    "    \"longitude\",\n",
    "    \"vicinity\",\n",
    "    \"crit1\",\n",
    "    \"crit2\",\n",
    "    \"crit3\",\n",
    "    \"doubtterr\",\n",
    "    \"multiple\",\n",
    "    \"success\",\n",
    "    \"suicide\",\n",
    "    \"attacktype1_txt\",\n",
    "    \"attacktype1\",\n",
    "    \"targtype1_txt\",\n",
    "    \"targtype1\",\n",
    "    \"natlty1_txt\",\n",
    "    \"natlty1\",\n",
    "    \"gname\",\n",
    "    \"guncertain1\",\n",
    "    \"individual\",\n",
    "    \"nperps\",\n",
    "    \"nperpcap\",\n",
    "    \"claimed\",\n",
    "    \"weaptype1_txt\",\n",
    "    \"weaptype1\",\n",
    "    \"nkill\",\n",
    "    \"property\",\n",
    "    \"ishostkid\",\n",
    "    \"nwound\",\n",
    "    \"INT_ANY\"\n",
    "]"
   ]
  },
  {
   "cell_type": "markdown",
   "metadata": {},
   "source": [
    "Esta celda define un diccionario llamado defect_values que asigna valores predeterminados o de \"defecto\" para ciertas columnas del DataFrame. El propósito es  reemplazar valores faltantes o problemáticos en esas columnas con los valores especificados."
   ]
  },
  {
   "cell_type": "code",
   "execution_count": 4,
   "metadata": {},
   "outputs": [],
   "source": [
    "defect_values = {\n",
    "    'nperpcap':0,\n",
    "    'claimed': 999,\n",
    "    'nkill':0\n",
    "}"
   ]
  },
  {
   "cell_type": "markdown",
   "metadata": {},
   "source": [
    "Esta celda utiliza el método fillna de pandas para rellenar los valores nulos (NaN) en el DataFrame df_terrorism con los valores definidos en el diccionario defect_values."
   ]
  },
  {
   "cell_type": "code",
   "execution_count": 5,
   "metadata": {},
   "outputs": [],
   "source": [
    "df_terrorism = df_terrorism.fillna(value=defect_values)"
   ]
  },
  {
   "cell_type": "markdown",
   "metadata": {},
   "source": [
    "Estas tres líneas filtran el DataFrame df_terrorism eliminando filas que contienen ciertos valores indeseados en las columnas doubtterr y iday."
   ]
  },
  {
   "cell_type": "code",
   "execution_count": 6,
   "metadata": {},
   "outputs": [],
   "source": [
    "df_terrorism = df_terrorism[df_terrorism['doubtterr'] != 1]\n",
    "df_terrorism = df_terrorism[df_terrorism['doubtterr'] != -9]\n",
    "df_terrorism = df_terrorism[df_terrorism['iday'] != 0]"
   ]
  },
  {
   "cell_type": "markdown",
   "metadata": {},
   "source": [
    "Estas dos líneas realizan las siguientes operaciones en el DataFrame df_terrorism:\n",
    "\n",
    "df_terrorism columns choice: Filtra el DataFrame, manteniendo solo las columnas que están incluidas en la lista columns_choice (definida anteriormente). Esto selecciona únicamente las columnas relevantes para el análisis.\n",
    "\n",
    "df_terrorism.dropna(): Elimina todas las filas que contienen valores nulos en cualquiera de las columnas seleccionadas. Esto asegura que el DataFrame final no tenga datos faltantes, lo que podría mejorar la calidad del análisis posterior."
   ]
  },
  {
   "cell_type": "code",
   "execution_count": 7,
   "metadata": {},
   "outputs": [],
   "source": [
    "df_terrorism = df_terrorism[columns_choice]\n",
    "df_terrorism = df_terrorism.dropna()"
   ]
  },
  {
   "cell_type": "markdown",
   "metadata": {},
   "source": [
    "Este código primero asegura que las columnas iyear, imonth y iday no contengan valores nulos, eliminando cualquier fila con datos faltantes en esas columnas. Luego, crea una nueva columna date convirtiendo estas tres columnas de año, mes y día en un formato de fecha con pd.to_datetime. A continuación, se genera una nueva columna llamada date_country_actor, que concatena la fecha convertida, el nombre del país (country_txt), y el nombre del grupo responsable del evento (gname). Finalmente, imprime las primeras filas del DataFrame modificado."
   ]
  },
  {
   "cell_type": "code",
   "execution_count": 8,
   "metadata": {},
   "outputs": [
    {
     "name": "stdout",
     "output_type": "stream",
     "text": [
      "         eventid  iyear  imonth  iday  extended    country_txt  country  \\\n",
      "5   197001010002   1970       1     1         0  United States      217   \n",
      "6   197001020001   1970       1     2         0        Uruguay      218   \n",
      "8   197001020003   1970       1     2         0  United States      217   \n",
      "9   197001030001   1970       1     3         0  United States      217   \n",
      "13  197001090001   1970       1     9         0  United States      217   \n",
      "\n",
      "       region_txt  region        city  ...  claimed  weaptype1_txt  weaptype1  \\\n",
      "5   North America       1       Cairo  ...      0.0       Firearms          5   \n",
      "6   South America       3  Montevideo  ...    999.0       Firearms          5   \n",
      "8   North America       1     Madison  ...      1.0     Incendiary          8   \n",
      "9   North America       1     Madison  ...      0.0     Incendiary          8   \n",
      "13  North America       1     Detroit  ...      0.0     Incendiary          8   \n",
      "\n",
      "    nkill  property  ishostkid  nwound  INT_ANY       date  \\\n",
      "5     0.0         1        0.0     0.0       -9 1970-01-01   \n",
      "6     0.0         0        0.0     0.0        0 1970-01-02   \n",
      "8     0.0         1        0.0     0.0        0 1970-01-02   \n",
      "9     0.0         1        0.0     0.0        0 1970-01-03   \n",
      "13    0.0         1        0.0     0.0       -9 1970-01-09   \n",
      "\n",
      "                            date_country_actor  \n",
      "5    1970-01-01United StatesBlack Nationalists  \n",
      "6         1970-01-02UruguayTupamaros (Uruguay)  \n",
      "8       1970-01-02United StatesNew Year's Gang  \n",
      "9       1970-01-03United StatesNew Year's Gang  \n",
      "13  1970-01-09United StatesLeft-Wing Militants  \n",
      "\n",
      "[5 rows x 41 columns]\n"
     ]
    }
   ],
   "source": [
    "# Asegurarse de que las columnas 'iyear', 'imonth' y 'iday' no tengan valores nulos\n",
    "df_terrorism = df_terrorism.dropna(subset=['iyear', 'imonth', 'iday'])\n",
    "\n",
    "df_terrorism['date'] = pd.to_datetime(df_terrorism[['iyear', 'imonth', 'iday']].rename(columns={'iyear': 'year', 'imonth': 'month', 'iday': 'day'}))\n",
    "\n",
    "# Crear la columna 'date_country'\n",
    "df_terrorism['date_country_actor'] = df_terrorism['date'].astype(str) + df_terrorism['country_txt'] + df_terrorism['gname']\n",
    "\n",
    "print(df_terrorism.head())"
   ]
  },
  {
   "cell_type": "markdown",
   "metadata": {},
   "source": [
    "Este código df_terrorism.info() imprime un resumen informativo del DataFrame df_terrorism. "
   ]
  },
  {
   "cell_type": "code",
   "execution_count": 9,
   "metadata": {},
   "outputs": [
    {
     "name": "stdout",
     "output_type": "stream",
     "text": [
      "<class 'pandas.core.frame.DataFrame'>\n",
      "Index: 82969 entries, 5 to 181690\n",
      "Data columns (total 41 columns):\n",
      " #   Column              Non-Null Count  Dtype         \n",
      "---  ------              --------------  -----         \n",
      " 0   eventid             82969 non-null  int64         \n",
      " 1   iyear               82969 non-null  int64         \n",
      " 2   imonth              82969 non-null  int64         \n",
      " 3   iday                82969 non-null  int64         \n",
      " 4   extended            82969 non-null  int64         \n",
      " 5   country_txt         82969 non-null  object        \n",
      " 6   country             82969 non-null  int64         \n",
      " 7   region_txt          82969 non-null  object        \n",
      " 8   region              82969 non-null  int64         \n",
      " 9   city                82969 non-null  object        \n",
      " 10  latitude            82969 non-null  float64       \n",
      " 11  longitude           82969 non-null  float64       \n",
      " 12  vicinity            82969 non-null  int64         \n",
      " 13  crit1               82969 non-null  int64         \n",
      " 14  crit2               82969 non-null  int64         \n",
      " 15  crit3               82969 non-null  int64         \n",
      " 16  doubtterr           82969 non-null  float64       \n",
      " 17  multiple            82969 non-null  float64       \n",
      " 18  success             82969 non-null  int64         \n",
      " 19  suicide             82969 non-null  int64         \n",
      " 20  attacktype1_txt     82969 non-null  object        \n",
      " 21  attacktype1         82969 non-null  int64         \n",
      " 22  targtype1_txt       82969 non-null  object        \n",
      " 23  targtype1           82969 non-null  int64         \n",
      " 24  natlty1_txt         82969 non-null  object        \n",
      " 25  natlty1             82969 non-null  float64       \n",
      " 26  gname               82969 non-null  object        \n",
      " 27  guncertain1         82969 non-null  float64       \n",
      " 28  individual          82969 non-null  int64         \n",
      " 29  nperps              82969 non-null  float64       \n",
      " 30  nperpcap            82969 non-null  float64       \n",
      " 31  claimed             82969 non-null  float64       \n",
      " 32  weaptype1_txt       82969 non-null  object        \n",
      " 33  weaptype1           82969 non-null  int64         \n",
      " 34  nkill               82969 non-null  float64       \n",
      " 35  property            82969 non-null  int64         \n",
      " 36  ishostkid           82969 non-null  float64       \n",
      " 37  nwound              82969 non-null  float64       \n",
      " 38  INT_ANY             82969 non-null  int64         \n",
      " 39  date                82969 non-null  datetime64[ns]\n",
      " 40  date_country_actor  82969 non-null  object        \n",
      "dtypes: datetime64[ns](1), float64(12), int64(19), object(9)\n",
      "memory usage: 26.6+ MB\n"
     ]
    }
   ],
   "source": [
    "df_terrorism.info()"
   ]
  },
  {
   "cell_type": "markdown",
   "metadata": {},
   "source": [
    "## **API Transformations**"
   ]
  },
  {
   "cell_type": "markdown",
   "metadata": {},
   "source": [
    "Este código carga un archivo CSV llamado combined_data.csv desde la ruta especificada en el directorio local utilizando la librería pandas y lo asigna a un DataFrame llamado api_terrorism."
   ]
  },
  {
   "cell_type": "code",
   "execution_count": 10,
   "metadata": {},
   "outputs": [],
   "source": [
    "api_terrorism = pd.read_csv('/Users/LENOVO/OneDrive/Escritorio/UNIVERSIDAD/ETL/pruebaAPI/combined_data.csv')"
   ]
  },
  {
   "cell_type": "code",
   "execution_count": 11,
   "metadata": {},
   "outputs": [],
   "source": [
    "api_terrorism = api_terrorism.dropna()"
   ]
  },
  {
   "cell_type": "markdown",
   "metadata": {},
   "source": [
    "Este código elimina todas las filas del DataFrame api_terrorism que contienen valores nulos en cualquier columna utilizando el método dropna(). Como resultado, solo se conservarán las filas con datos completos en todas las columnas, asegurando que no haya valores faltantes en el DataFrame. "
   ]
  },
  {
   "cell_type": "code",
   "execution_count": 12,
   "metadata": {},
   "outputs": [],
   "source": [
    "api_terrorism['date_country_actor'] = api_terrorism['event_date'].astype(str) + api_terrorism['country'] + api_terrorism['actor1']"
   ]
  },
  {
   "cell_type": "markdown",
   "metadata": {},
   "source": [
    "Este código crea una nueva columna en el DataFrame api_terrorism llamada date_country_actor. La columna es el resultado de concatenar tres columnas existentes: event_date (convertido a cadena de texto), country y actor1. Esta nueva columna combina la fecha del evento, el país y el actor principal en un único valor."
   ]
  },
  {
   "cell_type": "code",
   "execution_count": 13,
   "metadata": {},
   "outputs": [
    {
     "data": {
      "text/html": [
       "<div>\n",
       "<style scoped>\n",
       "    .dataframe tbody tr th:only-of-type {\n",
       "        vertical-align: middle;\n",
       "    }\n",
       "\n",
       "    .dataframe tbody tr th {\n",
       "        vertical-align: top;\n",
       "    }\n",
       "\n",
       "    .dataframe thead th {\n",
       "        text-align: right;\n",
       "    }\n",
       "</style>\n",
       "<table border=\"1\" class=\"dataframe\">\n",
       "  <thead>\n",
       "    <tr style=\"text-align: right;\">\n",
       "      <th></th>\n",
       "      <th>event_date</th>\n",
       "      <th>country</th>\n",
       "      <th>actor1</th>\n",
       "      <th>date_country_actor</th>\n",
       "    </tr>\n",
       "  </thead>\n",
       "  <tbody>\n",
       "    <tr>\n",
       "      <th>0</th>\n",
       "      <td>2000-12-31</td>\n",
       "      <td>Egypt</td>\n",
       "      <td>Unidentified Armed Group (Egypt)</td>\n",
       "      <td>2000-12-31EgyptUnidentified Armed Group (Egypt)</td>\n",
       "    </tr>\n",
       "    <tr>\n",
       "      <th>1</th>\n",
       "      <td>2000-12-31</td>\n",
       "      <td>Sierra Leone</td>\n",
       "      <td>CDF: Civil Defence Forces</td>\n",
       "      <td>2000-12-31Sierra LeoneCDF: Civil Defence Forces</td>\n",
       "    </tr>\n",
       "  </tbody>\n",
       "</table>\n",
       "</div>"
      ],
      "text/plain": [
       "   event_date       country                            actor1  \\\n",
       "0  2000-12-31         Egypt  Unidentified Armed Group (Egypt)   \n",
       "1  2000-12-31  Sierra Leone         CDF: Civil Defence Forces   \n",
       "\n",
       "                                date_country_actor  \n",
       "0  2000-12-31EgyptUnidentified Armed Group (Egypt)  \n",
       "1  2000-12-31Sierra LeoneCDF: Civil Defence Forces  "
      ]
     },
     "execution_count": 13,
     "metadata": {},
     "output_type": "execute_result"
    }
   ],
   "source": [
    "api_terrorism.head(2)"
   ]
  },
  {
   "cell_type": "markdown",
   "metadata": {},
   "source": [
    "Este código api_terrorism.head(2) muestra las primeras dos filas del DataFrame api_terrorism. Es útil para obtener una vista rápida de cómo se ven los datos después de haber realizado modificaciones o cargado el CSV."
   ]
  },
  {
   "cell_type": "markdown",
   "metadata": {},
   "source": [
    "\n",
    "El código api_terrorism.info() imprime un resumen del DataFrame api_terrorism. "
   ]
  },
  {
   "cell_type": "code",
   "execution_count": 14,
   "metadata": {},
   "outputs": [
    {
     "name": "stdout",
     "output_type": "stream",
     "text": [
      "<class 'pandas.core.frame.DataFrame'>\n",
      "RangeIndex: 377332 entries, 0 to 377331\n",
      "Data columns (total 4 columns):\n",
      " #   Column              Non-Null Count   Dtype \n",
      "---  ------              --------------   ----- \n",
      " 0   event_date          377332 non-null  object\n",
      " 1   country             377332 non-null  object\n",
      " 2   actor1              377332 non-null  object\n",
      " 3   date_country_actor  377332 non-null  object\n",
      "dtypes: object(4)\n",
      "memory usage: 11.5+ MB\n"
     ]
    }
   ],
   "source": [
    "api_terrorism.info()"
   ]
  },
  {
   "cell_type": "markdown",
   "metadata": {},
   "source": [
    "## **Merge transformations**"
   ]
  },
  {
   "cell_type": "markdown",
   "metadata": {},
   "source": [
    "\n",
    "Este código realiza una operación de fusión (merge) entre los DataFrames df_terrorism y api_terrorism, utilizando la columna date_country_actor como clave común para combinar los datos. La fusión se realiza con la opción how='left', lo que significa que se mantendrán todas las filas del DataFrame df_terrorism, y se agregarán las columnas correspondientes de api_terrorism cuando coincidan los valores en la columna date_country_actor. Si no hay coincidencia, se insertarán valores nulos (NaN) en las columnas del DataFrame derecho (api_terrorism). "
   ]
  },
  {
   "cell_type": "code",
   "execution_count": 15,
   "metadata": {},
   "outputs": [],
   "source": [
    "data = pd.merge(df_terrorism, api_terrorism, how='left', on='date_country_actor')"
   ]
  },
  {
   "cell_type": "markdown",
   "metadata": {},
   "source": [
    "\n",
    "El código data.info() imprimirá un resumen del DataFrame data, que es el resultado de la fusión de df_terrorism y api_terrorism."
   ]
  },
  {
   "cell_type": "code",
   "execution_count": 16,
   "metadata": {},
   "outputs": [
    {
     "name": "stdout",
     "output_type": "stream",
     "text": [
      "<class 'pandas.core.frame.DataFrame'>\n",
      "RangeIndex: 96268 entries, 0 to 96267\n",
      "Data columns (total 44 columns):\n",
      " #   Column              Non-Null Count  Dtype         \n",
      "---  ------              --------------  -----         \n",
      " 0   eventid             96268 non-null  int64         \n",
      " 1   iyear               96268 non-null  int64         \n",
      " 2   imonth              96268 non-null  int64         \n",
      " 3   iday                96268 non-null  int64         \n",
      " 4   extended            96268 non-null  int64         \n",
      " 5   country_txt         96268 non-null  object        \n",
      " 6   country_x           96268 non-null  int64         \n",
      " 7   region_txt          96268 non-null  object        \n",
      " 8   region              96268 non-null  int64         \n",
      " 9   city                96268 non-null  object        \n",
      " 10  latitude            96268 non-null  float64       \n",
      " 11  longitude           96268 non-null  float64       \n",
      " 12  vicinity            96268 non-null  int64         \n",
      " 13  crit1               96268 non-null  int64         \n",
      " 14  crit2               96268 non-null  int64         \n",
      " 15  crit3               96268 non-null  int64         \n",
      " 16  doubtterr           96268 non-null  float64       \n",
      " 17  multiple            96268 non-null  float64       \n",
      " 18  success             96268 non-null  int64         \n",
      " 19  suicide             96268 non-null  int64         \n",
      " 20  attacktype1_txt     96268 non-null  object        \n",
      " 21  attacktype1         96268 non-null  int64         \n",
      " 22  targtype1_txt       96268 non-null  object        \n",
      " 23  targtype1           96268 non-null  int64         \n",
      " 24  natlty1_txt         96268 non-null  object        \n",
      " 25  natlty1             96268 non-null  float64       \n",
      " 26  gname               96268 non-null  object        \n",
      " 27  guncertain1         96268 non-null  float64       \n",
      " 28  individual          96268 non-null  int64         \n",
      " 29  nperps              96268 non-null  float64       \n",
      " 30  nperpcap            96268 non-null  float64       \n",
      " 31  claimed             96268 non-null  float64       \n",
      " 32  weaptype1_txt       96268 non-null  object        \n",
      " 33  weaptype1           96268 non-null  int64         \n",
      " 34  nkill               96268 non-null  float64       \n",
      " 35  property            96268 non-null  int64         \n",
      " 36  ishostkid           96268 non-null  float64       \n",
      " 37  nwound              96268 non-null  float64       \n",
      " 38  INT_ANY             96268 non-null  int64         \n",
      " 39  date                96268 non-null  datetime64[ns]\n",
      " 40  date_country_actor  96268 non-null  object        \n",
      " 41  event_date          13966 non-null  object        \n",
      " 42  country_y           13966 non-null  object        \n",
      " 43  actor1              13966 non-null  object        \n",
      "dtypes: datetime64[ns](1), float64(12), int64(19), object(12)\n",
      "memory usage: 32.3+ MB\n"
     ]
    }
   ],
   "source": [
    "data.info()"
   ]
  },
  {
   "cell_type": "markdown",
   "metadata": {},
   "source": [
    "\n",
    "El código data.head(5) muestra las primeras cinco filas del DataFrame data. Es útil para revisar los datos resultantes después de la fusión y verificar que los datos de ambas tablas (df_terrorism y api_terrorism) se hayan combinado (Merge) correctamente. "
   ]
  },
  {
   "cell_type": "code",
   "execution_count": 17,
   "metadata": {},
   "outputs": [
    {
     "data": {
      "text/html": [
       "<div>\n",
       "<style scoped>\n",
       "    .dataframe tbody tr th:only-of-type {\n",
       "        vertical-align: middle;\n",
       "    }\n",
       "\n",
       "    .dataframe tbody tr th {\n",
       "        vertical-align: top;\n",
       "    }\n",
       "\n",
       "    .dataframe thead th {\n",
       "        text-align: right;\n",
       "    }\n",
       "</style>\n",
       "<table border=\"1\" class=\"dataframe\">\n",
       "  <thead>\n",
       "    <tr style=\"text-align: right;\">\n",
       "      <th></th>\n",
       "      <th>eventid</th>\n",
       "      <th>iyear</th>\n",
       "      <th>imonth</th>\n",
       "      <th>iday</th>\n",
       "      <th>extended</th>\n",
       "      <th>country_txt</th>\n",
       "      <th>country_x</th>\n",
       "      <th>region_txt</th>\n",
       "      <th>region</th>\n",
       "      <th>city</th>\n",
       "      <th>...</th>\n",
       "      <th>nkill</th>\n",
       "      <th>property</th>\n",
       "      <th>ishostkid</th>\n",
       "      <th>nwound</th>\n",
       "      <th>INT_ANY</th>\n",
       "      <th>date</th>\n",
       "      <th>date_country_actor</th>\n",
       "      <th>event_date</th>\n",
       "      <th>country_y</th>\n",
       "      <th>actor1</th>\n",
       "    </tr>\n",
       "  </thead>\n",
       "  <tbody>\n",
       "    <tr>\n",
       "      <th>0</th>\n",
       "      <td>197001010002</td>\n",
       "      <td>1970</td>\n",
       "      <td>1</td>\n",
       "      <td>1</td>\n",
       "      <td>0</td>\n",
       "      <td>United States</td>\n",
       "      <td>217</td>\n",
       "      <td>North America</td>\n",
       "      <td>1</td>\n",
       "      <td>Cairo</td>\n",
       "      <td>...</td>\n",
       "      <td>0.0</td>\n",
       "      <td>1</td>\n",
       "      <td>0.0</td>\n",
       "      <td>0.0</td>\n",
       "      <td>-9</td>\n",
       "      <td>1970-01-01</td>\n",
       "      <td>1970-01-01United StatesBlack Nationalists</td>\n",
       "      <td>NaN</td>\n",
       "      <td>NaN</td>\n",
       "      <td>NaN</td>\n",
       "    </tr>\n",
       "    <tr>\n",
       "      <th>1</th>\n",
       "      <td>197001020001</td>\n",
       "      <td>1970</td>\n",
       "      <td>1</td>\n",
       "      <td>2</td>\n",
       "      <td>0</td>\n",
       "      <td>Uruguay</td>\n",
       "      <td>218</td>\n",
       "      <td>South America</td>\n",
       "      <td>3</td>\n",
       "      <td>Montevideo</td>\n",
       "      <td>...</td>\n",
       "      <td>0.0</td>\n",
       "      <td>0</td>\n",
       "      <td>0.0</td>\n",
       "      <td>0.0</td>\n",
       "      <td>0</td>\n",
       "      <td>1970-01-02</td>\n",
       "      <td>1970-01-02UruguayTupamaros (Uruguay)</td>\n",
       "      <td>NaN</td>\n",
       "      <td>NaN</td>\n",
       "      <td>NaN</td>\n",
       "    </tr>\n",
       "    <tr>\n",
       "      <th>2</th>\n",
       "      <td>197001020003</td>\n",
       "      <td>1970</td>\n",
       "      <td>1</td>\n",
       "      <td>2</td>\n",
       "      <td>0</td>\n",
       "      <td>United States</td>\n",
       "      <td>217</td>\n",
       "      <td>North America</td>\n",
       "      <td>1</td>\n",
       "      <td>Madison</td>\n",
       "      <td>...</td>\n",
       "      <td>0.0</td>\n",
       "      <td>1</td>\n",
       "      <td>0.0</td>\n",
       "      <td>0.0</td>\n",
       "      <td>0</td>\n",
       "      <td>1970-01-02</td>\n",
       "      <td>1970-01-02United StatesNew Year's Gang</td>\n",
       "      <td>NaN</td>\n",
       "      <td>NaN</td>\n",
       "      <td>NaN</td>\n",
       "    </tr>\n",
       "    <tr>\n",
       "      <th>3</th>\n",
       "      <td>197001030001</td>\n",
       "      <td>1970</td>\n",
       "      <td>1</td>\n",
       "      <td>3</td>\n",
       "      <td>0</td>\n",
       "      <td>United States</td>\n",
       "      <td>217</td>\n",
       "      <td>North America</td>\n",
       "      <td>1</td>\n",
       "      <td>Madison</td>\n",
       "      <td>...</td>\n",
       "      <td>0.0</td>\n",
       "      <td>1</td>\n",
       "      <td>0.0</td>\n",
       "      <td>0.0</td>\n",
       "      <td>0</td>\n",
       "      <td>1970-01-03</td>\n",
       "      <td>1970-01-03United StatesNew Year's Gang</td>\n",
       "      <td>NaN</td>\n",
       "      <td>NaN</td>\n",
       "      <td>NaN</td>\n",
       "    </tr>\n",
       "    <tr>\n",
       "      <th>4</th>\n",
       "      <td>197001090001</td>\n",
       "      <td>1970</td>\n",
       "      <td>1</td>\n",
       "      <td>9</td>\n",
       "      <td>0</td>\n",
       "      <td>United States</td>\n",
       "      <td>217</td>\n",
       "      <td>North America</td>\n",
       "      <td>1</td>\n",
       "      <td>Detroit</td>\n",
       "      <td>...</td>\n",
       "      <td>0.0</td>\n",
       "      <td>1</td>\n",
       "      <td>0.0</td>\n",
       "      <td>0.0</td>\n",
       "      <td>-9</td>\n",
       "      <td>1970-01-09</td>\n",
       "      <td>1970-01-09United StatesLeft-Wing Militants</td>\n",
       "      <td>NaN</td>\n",
       "      <td>NaN</td>\n",
       "      <td>NaN</td>\n",
       "    </tr>\n",
       "  </tbody>\n",
       "</table>\n",
       "<p>5 rows × 44 columns</p>\n",
       "</div>"
      ],
      "text/plain": [
       "        eventid  iyear  imonth  iday  extended    country_txt  country_x  \\\n",
       "0  197001010002   1970       1     1         0  United States        217   \n",
       "1  197001020001   1970       1     2         0        Uruguay        218   \n",
       "2  197001020003   1970       1     2         0  United States        217   \n",
       "3  197001030001   1970       1     3         0  United States        217   \n",
       "4  197001090001   1970       1     9         0  United States        217   \n",
       "\n",
       "      region_txt  region        city  ...  nkill  property  ishostkid  nwound  \\\n",
       "0  North America       1       Cairo  ...    0.0         1        0.0     0.0   \n",
       "1  South America       3  Montevideo  ...    0.0         0        0.0     0.0   \n",
       "2  North America       1     Madison  ...    0.0         1        0.0     0.0   \n",
       "3  North America       1     Madison  ...    0.0         1        0.0     0.0   \n",
       "4  North America       1     Detroit  ...    0.0         1        0.0     0.0   \n",
       "\n",
       "   INT_ANY       date                          date_country_actor  event_date  \\\n",
       "0       -9 1970-01-01   1970-01-01United StatesBlack Nationalists         NaN   \n",
       "1        0 1970-01-02        1970-01-02UruguayTupamaros (Uruguay)         NaN   \n",
       "2        0 1970-01-02      1970-01-02United StatesNew Year's Gang         NaN   \n",
       "3        0 1970-01-03      1970-01-03United StatesNew Year's Gang         NaN   \n",
       "4       -9 1970-01-09  1970-01-09United StatesLeft-Wing Militants         NaN   \n",
       "\n",
       "   country_y  actor1  \n",
       "0        NaN     NaN  \n",
       "1        NaN     NaN  \n",
       "2        NaN     NaN  \n",
       "3        NaN     NaN  \n",
       "4        NaN     NaN  \n",
       "\n",
       "[5 rows x 44 columns]"
      ]
     },
     "execution_count": 17,
     "metadata": {},
     "output_type": "execute_result"
    }
   ],
   "source": [
    "data.head(5)"
   ]
  },
  {
   "cell_type": "markdown",
   "metadata": {},
   "source": [
    "Este código elimina todas las filas del DataFrame data que contienen valores nulos en cualquier columna utilizando el método dropna(). Esto asegura que el DataFrame resultante solo contenga filas con datos completos, eliminando cualquier fila que tenga valores faltantes en alguna de sus columnas."
   ]
  },
  {
   "cell_type": "code",
   "execution_count": 18,
   "metadata": {},
   "outputs": [],
   "source": [
    "data = data.dropna()"
   ]
  },
  {
   "cell_type": "markdown",
   "metadata": {},
   "source": [
    "El comando data.info() imprimirá un resumen del DataFrame data después de haber eliminado las filas con valores nulos."
   ]
  },
  {
   "cell_type": "code",
   "execution_count": 19,
   "metadata": {},
   "outputs": [
    {
     "name": "stdout",
     "output_type": "stream",
     "text": [
      "<class 'pandas.core.frame.DataFrame'>\n",
      "Index: 13966 entries, 18097 to 96262\n",
      "Data columns (total 44 columns):\n",
      " #   Column              Non-Null Count  Dtype         \n",
      "---  ------              --------------  -----         \n",
      " 0   eventid             13966 non-null  int64         \n",
      " 1   iyear               13966 non-null  int64         \n",
      " 2   imonth              13966 non-null  int64         \n",
      " 3   iday                13966 non-null  int64         \n",
      " 4   extended            13966 non-null  int64         \n",
      " 5   country_txt         13966 non-null  object        \n",
      " 6   country_x           13966 non-null  int64         \n",
      " 7   region_txt          13966 non-null  object        \n",
      " 8   region              13966 non-null  int64         \n",
      " 9   city                13966 non-null  object        \n",
      " 10  latitude            13966 non-null  float64       \n",
      " 11  longitude           13966 non-null  float64       \n",
      " 12  vicinity            13966 non-null  int64         \n",
      " 13  crit1               13966 non-null  int64         \n",
      " 14  crit2               13966 non-null  int64         \n",
      " 15  crit3               13966 non-null  int64         \n",
      " 16  doubtterr           13966 non-null  float64       \n",
      " 17  multiple            13966 non-null  float64       \n",
      " 18  success             13966 non-null  int64         \n",
      " 19  suicide             13966 non-null  int64         \n",
      " 20  attacktype1_txt     13966 non-null  object        \n",
      " 21  attacktype1         13966 non-null  int64         \n",
      " 22  targtype1_txt       13966 non-null  object        \n",
      " 23  targtype1           13966 non-null  int64         \n",
      " 24  natlty1_txt         13966 non-null  object        \n",
      " 25  natlty1             13966 non-null  float64       \n",
      " 26  gname               13966 non-null  object        \n",
      " 27  guncertain1         13966 non-null  float64       \n",
      " 28  individual          13966 non-null  int64         \n",
      " 29  nperps              13966 non-null  float64       \n",
      " 30  nperpcap            13966 non-null  float64       \n",
      " 31  claimed             13966 non-null  float64       \n",
      " 32  weaptype1_txt       13966 non-null  object        \n",
      " 33  weaptype1           13966 non-null  int64         \n",
      " 34  nkill               13966 non-null  float64       \n",
      " 35  property            13966 non-null  int64         \n",
      " 36  ishostkid           13966 non-null  float64       \n",
      " 37  nwound              13966 non-null  float64       \n",
      " 38  INT_ANY             13966 non-null  int64         \n",
      " 39  date                13966 non-null  datetime64[ns]\n",
      " 40  date_country_actor  13966 non-null  object        \n",
      " 41  event_date          13966 non-null  object        \n",
      " 42  country_y           13966 non-null  object        \n",
      " 43  actor1              13966 non-null  object        \n",
      "dtypes: datetime64[ns](1), float64(12), int64(19), object(12)\n",
      "memory usage: 4.8+ MB\n"
     ]
    }
   ],
   "source": [
    "data.info()"
   ]
  },
  {
   "cell_type": "markdown",
   "metadata": {},
   "source": [
    "Este código realiza dos acciones:\n",
    "\n",
    "non_null_row = data.dropna(): Crea una nueva variable non_null_row que contiene una copia del DataFrame data, pero eliminando todas las filas que tengan algún valor nulo. Es similar a lo que hiciste antes con data.dropna(), pero esta vez el DataFrame limpio se almacena en una nueva variable.\n",
    "\n",
    "print(non_null_row.head(1)): Imprime la primera fila del DataFrame non_null_row para proporcionar una vista rápida de los datos que quedaron después de eliminar las filas con valores nulos."
   ]
  },
  {
   "cell_type": "code",
   "execution_count": 20,
   "metadata": {},
   "outputs": [
    {
     "name": "stdout",
     "output_type": "stream",
     "text": [
      "            eventid  iyear  imonth  iday  extended country_txt  country_x  \\\n",
      "18097  201003120016   2010       3    12         1    Cameroon         37   \n",
      "\n",
      "               region_txt  region              city  ...  nkill  property  \\\n",
      "18097  Sub-Saharan Africa      11  Bakassi district  ...    0.0        -9   \n",
      "\n",
      "       ishostkid  nwound  INT_ANY       date  \\\n",
      "18097        1.0     2.0        1 2010-03-12   \n",
      "\n",
      "                             date_country_actor  event_date  country_y  \\\n",
      "18097  2010-03-12CameroonAfrica Marine Commando  2010-03-12   Cameroon   \n",
      "\n",
      "                       actor1  \n",
      "18097  Africa Marine Commando  \n",
      "\n",
      "[1 rows x 44 columns]\n"
     ]
    }
   ],
   "source": [
    "non_null_row = data.dropna()\n",
    "print(non_null_row.head(1))"
   ]
  },
  {
   "cell_type": "markdown",
   "metadata": {},
   "source": [
    "El comando data.head(5) mostrará las primeras cinco filas del DataFrame data. Esto es útil para visualizar rápidamente cómo se ven las primeras filas del DataFrame, permitiendo verificar las columnas, los valores en cada una, y confirmar que los datos están en el formato esperado tras las transformaciones anteriores, como la fusión y la eliminación de filas con valores nulos.\n",
    "\n",
    "\n",
    "\n",
    "\n",
    "\n",
    "\n"
   ]
  },
  {
   "cell_type": "code",
   "execution_count": 21,
   "metadata": {},
   "outputs": [
    {
     "data": {
      "text/html": [
       "<div>\n",
       "<style scoped>\n",
       "    .dataframe tbody tr th:only-of-type {\n",
       "        vertical-align: middle;\n",
       "    }\n",
       "\n",
       "    .dataframe tbody tr th {\n",
       "        vertical-align: top;\n",
       "    }\n",
       "\n",
       "    .dataframe thead th {\n",
       "        text-align: right;\n",
       "    }\n",
       "</style>\n",
       "<table border=\"1\" class=\"dataframe\">\n",
       "  <thead>\n",
       "    <tr style=\"text-align: right;\">\n",
       "      <th></th>\n",
       "      <th>eventid</th>\n",
       "      <th>iyear</th>\n",
       "      <th>imonth</th>\n",
       "      <th>iday</th>\n",
       "      <th>extended</th>\n",
       "      <th>country_txt</th>\n",
       "      <th>country_x</th>\n",
       "      <th>region_txt</th>\n",
       "      <th>region</th>\n",
       "      <th>city</th>\n",
       "      <th>...</th>\n",
       "      <th>nkill</th>\n",
       "      <th>property</th>\n",
       "      <th>ishostkid</th>\n",
       "      <th>nwound</th>\n",
       "      <th>INT_ANY</th>\n",
       "      <th>date</th>\n",
       "      <th>date_country_actor</th>\n",
       "      <th>event_date</th>\n",
       "      <th>country_y</th>\n",
       "      <th>actor1</th>\n",
       "    </tr>\n",
       "  </thead>\n",
       "  <tbody>\n",
       "    <tr>\n",
       "      <th>18097</th>\n",
       "      <td>201003120016</td>\n",
       "      <td>2010</td>\n",
       "      <td>3</td>\n",
       "      <td>12</td>\n",
       "      <td>1</td>\n",
       "      <td>Cameroon</td>\n",
       "      <td>37</td>\n",
       "      <td>Sub-Saharan Africa</td>\n",
       "      <td>11</td>\n",
       "      <td>Bakassi district</td>\n",
       "      <td>...</td>\n",
       "      <td>0.0</td>\n",
       "      <td>-9</td>\n",
       "      <td>1.0</td>\n",
       "      <td>2.0</td>\n",
       "      <td>1</td>\n",
       "      <td>2010-03-12</td>\n",
       "      <td>2010-03-12CameroonAfrica Marine Commando</td>\n",
       "      <td>2010-03-12</td>\n",
       "      <td>Cameroon</td>\n",
       "      <td>Africa Marine Commando</td>\n",
       "    </tr>\n",
       "    <tr>\n",
       "      <th>21310</th>\n",
       "      <td>201011160013</td>\n",
       "      <td>2010</td>\n",
       "      <td>11</td>\n",
       "      <td>16</td>\n",
       "      <td>1</td>\n",
       "      <td>Cameroon</td>\n",
       "      <td>37</td>\n",
       "      <td>Sub-Saharan Africa</td>\n",
       "      <td>11</td>\n",
       "      <td>Bakassi district</td>\n",
       "      <td>...</td>\n",
       "      <td>5.0</td>\n",
       "      <td>0</td>\n",
       "      <td>0.0</td>\n",
       "      <td>0.0</td>\n",
       "      <td>-9</td>\n",
       "      <td>2010-11-16</td>\n",
       "      <td>2010-11-16CameroonAfrica Marine Commando</td>\n",
       "      <td>2010-11-16</td>\n",
       "      <td>Cameroon</td>\n",
       "      <td>Africa Marine Commando</td>\n",
       "    </tr>\n",
       "    <tr>\n",
       "      <th>21311</th>\n",
       "      <td>201011160013</td>\n",
       "      <td>2010</td>\n",
       "      <td>11</td>\n",
       "      <td>16</td>\n",
       "      <td>1</td>\n",
       "      <td>Cameroon</td>\n",
       "      <td>37</td>\n",
       "      <td>Sub-Saharan Africa</td>\n",
       "      <td>11</td>\n",
       "      <td>Bakassi district</td>\n",
       "      <td>...</td>\n",
       "      <td>5.0</td>\n",
       "      <td>0</td>\n",
       "      <td>0.0</td>\n",
       "      <td>0.0</td>\n",
       "      <td>-9</td>\n",
       "      <td>2010-11-16</td>\n",
       "      <td>2010-11-16CameroonAfrica Marine Commando</td>\n",
       "      <td>2010-11-16</td>\n",
       "      <td>Cameroon</td>\n",
       "      <td>Africa Marine Commando</td>\n",
       "    </tr>\n",
       "    <tr>\n",
       "      <th>22303</th>\n",
       "      <td>201102060013</td>\n",
       "      <td>2011</td>\n",
       "      <td>2</td>\n",
       "      <td>6</td>\n",
       "      <td>1</td>\n",
       "      <td>Cameroon</td>\n",
       "      <td>37</td>\n",
       "      <td>Sub-Saharan Africa</td>\n",
       "      <td>11</td>\n",
       "      <td>Bakassi district</td>\n",
       "      <td>...</td>\n",
       "      <td>0.0</td>\n",
       "      <td>0</td>\n",
       "      <td>1.0</td>\n",
       "      <td>0.0</td>\n",
       "      <td>-9</td>\n",
       "      <td>2011-02-06</td>\n",
       "      <td>2011-02-06CameroonAfrica Marine Commando</td>\n",
       "      <td>2011-02-06</td>\n",
       "      <td>Cameroon</td>\n",
       "      <td>Africa Marine Commando</td>\n",
       "    </tr>\n",
       "    <tr>\n",
       "      <th>45896</th>\n",
       "      <td>201404110037</td>\n",
       "      <td>2014</td>\n",
       "      <td>4</td>\n",
       "      <td>11</td>\n",
       "      <td>0</td>\n",
       "      <td>Egypt</td>\n",
       "      <td>60</td>\n",
       "      <td>Middle East &amp; North Africa</td>\n",
       "      <td>10</td>\n",
       "      <td>Al-Mahalla Al-Kubra</td>\n",
       "      <td>...</td>\n",
       "      <td>2.0</td>\n",
       "      <td>0</td>\n",
       "      <td>0.0</td>\n",
       "      <td>0.0</td>\n",
       "      <td>1</td>\n",
       "      <td>2014-04-11</td>\n",
       "      <td>2014-04-11EgyptMuslim Brotherhood</td>\n",
       "      <td>2014-04-11</td>\n",
       "      <td>Egypt</td>\n",
       "      <td>Muslim Brotherhood</td>\n",
       "    </tr>\n",
       "  </tbody>\n",
       "</table>\n",
       "<p>5 rows × 44 columns</p>\n",
       "</div>"
      ],
      "text/plain": [
       "            eventid  iyear  imonth  iday  extended country_txt  country_x  \\\n",
       "18097  201003120016   2010       3    12         1    Cameroon         37   \n",
       "21310  201011160013   2010      11    16         1    Cameroon         37   \n",
       "21311  201011160013   2010      11    16         1    Cameroon         37   \n",
       "22303  201102060013   2011       2     6         1    Cameroon         37   \n",
       "45896  201404110037   2014       4    11         0       Egypt         60   \n",
       "\n",
       "                       region_txt  region                 city  ...  nkill  \\\n",
       "18097          Sub-Saharan Africa      11     Bakassi district  ...    0.0   \n",
       "21310          Sub-Saharan Africa      11     Bakassi district  ...    5.0   \n",
       "21311          Sub-Saharan Africa      11     Bakassi district  ...    5.0   \n",
       "22303          Sub-Saharan Africa      11     Bakassi district  ...    0.0   \n",
       "45896  Middle East & North Africa      10  Al-Mahalla Al-Kubra  ...    2.0   \n",
       "\n",
       "       property  ishostkid  nwound  INT_ANY       date  \\\n",
       "18097        -9        1.0     2.0        1 2010-03-12   \n",
       "21310         0        0.0     0.0       -9 2010-11-16   \n",
       "21311         0        0.0     0.0       -9 2010-11-16   \n",
       "22303         0        1.0     0.0       -9 2011-02-06   \n",
       "45896         0        0.0     0.0        1 2014-04-11   \n",
       "\n",
       "                             date_country_actor  event_date  country_y  \\\n",
       "18097  2010-03-12CameroonAfrica Marine Commando  2010-03-12   Cameroon   \n",
       "21310  2010-11-16CameroonAfrica Marine Commando  2010-11-16   Cameroon   \n",
       "21311  2010-11-16CameroonAfrica Marine Commando  2010-11-16   Cameroon   \n",
       "22303  2011-02-06CameroonAfrica Marine Commando  2011-02-06   Cameroon   \n",
       "45896         2014-04-11EgyptMuslim Brotherhood  2014-04-11      Egypt   \n",
       "\n",
       "                       actor1  \n",
       "18097  Africa Marine Commando  \n",
       "21310  Africa Marine Commando  \n",
       "21311  Africa Marine Commando  \n",
       "22303  Africa Marine Commando  \n",
       "45896      Muslim Brotherhood  \n",
       "\n",
       "[5 rows x 44 columns]"
      ]
     },
     "execution_count": 21,
     "metadata": {},
     "output_type": "execute_result"
    }
   ],
   "source": [
    "data.head(5)"
   ]
  }
 ],
 "metadata": {
  "kernelspec": {
   "display_name": "venv",
   "language": "python",
   "name": "python3"
  },
  "language_info": {
   "codemirror_mode": {
    "name": "ipython",
    "version": 3
   },
   "file_extension": ".py",
   "mimetype": "text/x-python",
   "name": "python",
   "nbconvert_exporter": "python",
   "pygments_lexer": "ipython3",
   "version": "3.12.5"
  }
 },
 "nbformat": 4,
 "nbformat_minor": 2
}
